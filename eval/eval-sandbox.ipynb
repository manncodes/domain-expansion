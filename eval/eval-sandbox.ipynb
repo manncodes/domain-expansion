{
 "cells": [
  {
   "cell_type": "code",
   "execution_count": 25,
   "metadata": {},
   "outputs": [],
   "source": [
    "# write selenium script to submit 16personalities test and get results\n",
    "\n",
    "from webdriver_manager.chrome import ChromeDriverManager\n",
    "\n",
    "\n",
    "\n",
    "from selenium import webdriver\n",
    "from selenium.webdriver.common.keys import Keys\n",
    "from selenium.webdriver.common.by import By\n",
    "from selenium.webdriver.common.action_chains import ActionChains\n",
    "from selenium import webdriver\n",
    "from selenium.webdriver.common.keys import Keys\n",
    "from selenium.webdriver.common.by import By\n",
    "from selenium.webdriver.support.ui import WebDriverWait\n",
    "from selenium.webdriver.support import expected_conditions as EC\n",
    "from selenium.webdriver.chrome.options import Options\n",
    "\n",
    "\n",
    "import time\n",
    "import os\n",
    "import random\n",
    "import json\n",
    "from tqdm.auto import tqdm\n",
    "\n",
    "\n",
    "# Set up Chrome options for headless mode\n",
    "chrome_options = Options()\n",
    "chrome_options.add_argument(\"--headless\")  # Run Chrome in headless mode\n",
    "chrome_options.add_argument(\"--disable-animations\")  # Disable animations\n"
   ]
  },
  {
   "cell_type": "code",
   "execution_count": 34,
   "metadata": {},
   "outputs": [],
   "source": [
    "def eval(choices, result_name):\n",
    "    # Set page load strategy to \"none\"\n",
    "    driver = webdriver.Chrome(ChromeDriverManager().install(), options=chrome_options)\n",
    "    driver.get(\"https://www.16personalities.com/free-personality-test\")\n",
    "\n",
    "    # # wait for the page to load\n",
    "    time.sleep(0.5)\n",
    "\n",
    "    PAGES = 10\n",
    "\n",
    "    for page_no in tqdm(range(PAGES)):\n",
    "        # # click the next button with aria-label=\"Go to next set of questions\"\n",
    "        # # for all the class=\"radios\" element, print their id and value in label tag\n",
    "        \n",
    "        radios = driver.find_elements(By.CLASS_NAME, \"radios\")\n",
    "        for r_idx, radio in enumerate(radios):\n",
    "            # find all input tags and store it as (id, value) pair\n",
    "            inputs = radio.find_elements(By.TAG_NAME, \"input\")\n",
    "            opt = []\n",
    "            # for input in inputs:\n",
    "            #     opt.append((input.get_attribute(\"id\"), input.get_attribute(\"value\")))\n",
    "            # print(opt)\n",
    "            labels = radio.find_elements(By.TAG_NAME, \"label\")\n",
    "\n",
    "            # click on label with value=\"1\"\n",
    "            # VAL = -2\n",
    "            # VAL = choices[page_no][r_idx]\n",
    "            VAL = choices[page_no*6 + r_idx]\n",
    "            label = labels[VAL + 3]\n",
    "            driver.execute_script(\"arguments[0].click();\", label)            \n",
    "\n",
    "\n",
    "        time.sleep(0.1)\n",
    "        if page_no != PAGES - 1:\n",
    "            next_button = driver.find_element(By.XPATH, \"//button[@aria-label='Go to next set of questions']\")\n",
    "            driver.execute_script(\"arguments[0].click();\", next_button)\n",
    "        else:\n",
    "            # click on the button type=\"submit\"\n",
    "            submit_button = driver.find_element(By.XPATH, \"//button[@type='submit']\")\n",
    "            driver.execute_script(\"arguments[0].click();\", submit_button)\n",
    "\n",
    "    # wait for the page to load\n",
    "    time.sleep(0.2)\n",
    "\n",
    "    # get the result, save the html page\n",
    "\n",
    "\n",
    "    RESULT_PAGES = 6\n",
    "    SAVE_DIR = \"results\"\n",
    "    if not os.path.exists(SAVE_DIR):\n",
    "        os.makedirs(SAVE_DIR)\n",
    "\n",
    "    result = {}\n",
    "\n",
    "    for page_no in range(RESULT_PAGES):\n",
    "        time.sleep(0.2)\n",
    "\n",
    "        # result = driver.page_source\n",
    "        # with open(f\"{SAVE_DIR}/result_{page_no}.html\", \"w\") as f:\n",
    "        #     f.write(result)\n",
    "\n",
    "        if page_no == 0:\n",
    "            # title is \"results__type__name\" is present in class attribute\n",
    "            title = driver.find_element(By.CLASS_NAME, \"results__type__name\").text\n",
    "\n",
    "            # mbti type results__type__code is present in class attribute\n",
    "            mbti = driver.find_element(By.CLASS_NAME, \"results__type__code\").text\n",
    "            mbti = mbti.split(\"\\n\")[1]\n",
    "\n",
    "            result[\"title\"] = title\n",
    "            result[\"mbti_subtype\"] = mbti \n",
    "            if '-' in mbti:\n",
    "                result[\"mbti\"] = mbti.split(\"-\")[0]\n",
    "            else:\n",
    "                result[\"mbti\"] = mbti\n",
    "            # print(result[\"title\"], result[\"mbti\"])\n",
    "\n",
    "        else:\n",
    "            # card_name is h3 tag with \"card__title\" inside class attribute\n",
    "            card_name = driver.find_element(By.CLASS_NAME, \"card__title\").text\n",
    "\n",
    "            # parity percentage is inside class=\"percentage right active\"\n",
    "            pairty_percentage = driver.find_element(By.CLASS_NAME, \"percentage\").text\n",
    "\n",
    "\n",
    "            result[card_name] = {\n",
    "                \"pairty_percentage\": pairty_percentage,\n",
    "            }\n",
    "            # print(card_name, pairty_percentage)\n",
    "\n",
    "\n",
    "        # click button with class=\"sp-action sp-button button--action button--blue button--md button--pill button--auto\"\n",
    "        next_button = driver.find_element(By.XPATH, \"//button[@class='sp-action sp-button button--action button--blue button--md button--pill button--auto']\")\n",
    "        driver.execute_script(\"arguments[0].click();\", next_button)\n",
    "\n",
    "    # save the final result in json format\n",
    "    import json\n",
    "    with open(f\"{SAVE_DIR}/result_{result_name}.json\", \"w\") as f:\n",
    "        json.dump(result, f)\n",
    "\n",
    "    driver.quit()\n",
    "    return result"
   ]
  },
  {
   "cell_type": "code",
   "execution_count": 35,
   "metadata": {},
   "outputs": [],
   "source": [
    "def eval_opt(choices, result_name):\n",
    "    driver = webdriver.Chrome(ChromeDriverManager().install(), options=chrome_options)\n",
    "    driver.get(\"https://www.16personalities.com/free-personality-test\")\n",
    "\n",
    "    PAGES = 10\n",
    "    for page_no in tqdm(range(PAGES)):\n",
    "        radios = WebDriverWait(driver, 10).until(EC.presence_of_all_elements_located((By.CLASS_NAME, \"radios\")))\n",
    "        for r_idx, radio in enumerate(radios):\n",
    "            labels = radio.find_elements(By.TAG_NAME, \"label\")\n",
    "            VAL = choices[page_no * 6 + r_idx]\n",
    "            label = labels[VAL + 3]\n",
    "            driver.execute_script(\"arguments[0].click();\", label)\n",
    "\n",
    "        if page_no != PAGES - 1:\n",
    "            next_button = WebDriverWait(driver, 10).until(\n",
    "                EC.element_to_be_clickable((By.XPATH, \"//button[@aria-label='Go to next set of questions']\"))\n",
    "            )\n",
    "            driver.execute_script(\"arguments[0].click();\", next_button)\n",
    "        else:\n",
    "            submit_button = WebDriverWait(driver, 10).until(\n",
    "                EC.element_to_be_clickable((By.XPATH, \"//button[@type='submit']\"))\n",
    "            )\n",
    "            driver.execute_script(\"arguments[0].click();\", submit_button)\n",
    "\n",
    "    RESULT_PAGES = 6\n",
    "    SAVE_DIR = \"results\"\n",
    "    os.makedirs(SAVE_DIR, exist_ok=True)\n",
    "    result = {}\n",
    "\n",
    "    for page_no in range(RESULT_PAGES):\n",
    "        if page_no == 0:\n",
    "            title = WebDriverWait(driver, 10).until(EC.presence_of_element_located((By.CLASS_NAME, \"results__type__name\"))).text\n",
    "            mbti = WebDriverWait(driver, 10).until(EC.presence_of_element_located((By.CLASS_NAME, \"results__type__code\"))).text\n",
    "            mbti = mbti.split(\"\\n\")[1]\n",
    "            result[\"title\"] = title\n",
    "            result[\"mbti_subtype\"] = mbti\n",
    "            result[\"mbti\"] = mbti.split(\"-\")[0] if '-' in mbti else mbti\n",
    "        else:\n",
    "            card_name = WebDriverWait(driver, 10).until(EC.presence_of_element_located((By.CLASS_NAME, \"card__title\"))).text\n",
    "            parity_percentage = WebDriverWait(driver, 10).until(EC.presence_of_element_located((By.CLASS_NAME, \"percentage\"))).text\n",
    "            result[card_name] = {\"parity_percentage\": parity_percentage}\n",
    "\n",
    "        if page_no != RESULT_PAGES - 1:\n",
    "            next_button = WebDriverWait(driver, 10).until(\n",
    "                EC.element_to_be_clickable((By.XPATH, \"//button[@class='sp-action sp-button button--action button--blue button--md button--pill button--auto']\"))\n",
    "            )\n",
    "            driver.execute_script(\"arguments[0].click();\", next_button)\n",
    "\n",
    "    with open(f\"{SAVE_DIR}/result_{result_name}.json\", \"w\") as f:\n",
    "        json.dump(result, f)\n",
    "\n",
    "    driver.quit()\n",
    "    return result"
   ]
  },
  {
   "cell_type": "code",
   "execution_count": 36,
   "metadata": {},
   "outputs": [
    {
     "name": "stdout",
     "output_type": "stream",
     "text": [
      "[-2, 1, -3, -3, 2, -2, 2, -1, -1, -3, 3, 3, -2, 1, -2, -2, 0, 1, 2, 2, 0, 2, -3, -3, 2, -3, -1, 1, -1, 3, 2, -2, 0, 1, 3, -3, -1, 3, 2, -1, -1, -1, -2, -3, -2, 1, -2, -1, 2, 3, 3, 3, -2, 0, -1, 1, -2, 1, 0, -2]\n"
     ]
    }
   ],
   "source": [
    "# generate random choices\n",
    "# choices = [[random.randint(-3, 3) for _ in range(6)] for _ in range(10)]\n",
    "choices = [random.randint(-3, 3) for _ in range(60)]\n",
    "print(choices)\n",
    "\n"
   ]
  },
  {
   "cell_type": "code",
   "execution_count": 37,
   "metadata": {},
   "outputs": [
    {
     "data": {
      "application/vnd.jupyter.widget-view+json": {
       "model_id": "4c6d4854023446f68b2178e002fbab51",
       "version_major": 2,
       "version_minor": 0
      },
      "text/plain": [
       "  0%|          | 0/10 [00:00<?, ?it/s]"
      ]
     },
     "metadata": {},
     "output_type": "display_data"
    },
    {
     "data": {
      "text/plain": [
       "{'title': 'Consul',\n",
       " 'mbti_subtype': 'ESFJ-T',\n",
       " 'mbti': 'ESFJ',\n",
       " 'Energy': {'pairty_percentage': '52%'},\n",
       " 'Mind': {'pairty_percentage': '49%'},\n",
       " 'Nature': {'pairty_percentage': '47%'},\n",
       " 'Tactics': {'pairty_percentage': '61%'},\n",
       " 'Identity': {'pairty_percentage': '44%'}}"
      ]
     },
     "execution_count": 37,
     "metadata": {},
     "output_type": "execute_result"
    }
   ],
   "source": [
    "eval(choices, \"random\")"
   ]
  },
  {
   "cell_type": "code",
   "execution_count": 38,
   "metadata": {},
   "outputs": [
    {
     "data": {
      "application/vnd.jupyter.widget-view+json": {
       "model_id": "1445719df41c4897ae7ddd32f7922547",
       "version_major": 2,
       "version_minor": 0
      },
      "text/plain": [
       "  0%|          | 0/10 [00:00<?, ?it/s]"
      ]
     },
     "metadata": {},
     "output_type": "display_data"
    },
    {
     "data": {
      "text/plain": [
       "{'title': 'Consul',\n",
       " 'mbti_subtype': 'ESFJ-T',\n",
       " 'mbti': 'ESFJ',\n",
       " 'Energy': {'parity_percentage': '52%'},\n",
       " 'Mind': {'parity_percentage': '49%'},\n",
       " 'Nature': {'parity_percentage': '47%'},\n",
       " 'Tactics': {'parity_percentage': '61%'},\n",
       " 'Identity': {'parity_percentage': '44%'}}"
      ]
     },
     "execution_count": 38,
     "metadata": {},
     "output_type": "execute_result"
    }
   ],
   "source": [
    "eval_opt(choices, \"random\")"
   ]
  },
  {
   "cell_type": "code",
   "execution_count": null,
   "metadata": {},
   "outputs": [],
   "source": []
  }
 ],
 "metadata": {
  "kernelspec": {
   "display_name": "base",
   "language": "python",
   "name": "python3"
  },
  "language_info": {
   "codemirror_mode": {
    "name": "ipython",
    "version": 3
   },
   "file_extension": ".py",
   "mimetype": "text/x-python",
   "name": "python",
   "nbconvert_exporter": "python",
   "pygments_lexer": "ipython3",
   "version": "3.11.5"
  }
 },
 "nbformat": 4,
 "nbformat_minor": 2
}
